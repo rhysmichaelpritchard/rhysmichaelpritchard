{
  "nbformat": 4,
  "nbformat_minor": 0,
  "metadata": {
    "colab": {
      "name": "CV.ipynb",
      "provenance": [],
      "collapsed_sections": [],
      "authorship_tag": "ABX9TyMfoVrS2me7p0l9YPj+8G81",
      "include_colab_link": true
    },
    "kernelspec": {
      "name": "python3",
      "display_name": "Python 3"
    },
    "language_info": {
      "name": "python"
    }
  },
  "cells": [
    {
      "cell_type": "markdown",
      "metadata": {
        "id": "view-in-github",
        "colab_type": "text"
      },
      "source": [
        "<a href=\"https://colab.research.google.com/github/rhysmichaelpritchard/rhysmichaelpritchard/blob/main/CV.ipynb\" target=\"_parent\"><img src=\"https://colab.research.google.com/assets/colab-badge.svg\" alt=\"Open In Colab\"/></a>"
      ]
    },
    {
      "cell_type": "code",
      "execution_count": 2,
      "metadata": {
        "id": "UXNGeaIRr75X"
      },
      "outputs": [],
      "source": [
        "import pandas as pd, numpy as np, matplotlib as plt, spacy, nltk"
      ]
    },
    {
      "cell_type": "markdown",
      "source": [
        "Do some text visualisation."
      ],
      "metadata": {
        "id": "bSqgDShesOr7"
      }
    },
    {
      "cell_type": "code",
      "source": [
        "# text visualisation here"
      ],
      "metadata": {
        "id": "arRwFGKRsS1G"
      },
      "execution_count": 3,
      "outputs": []
    },
    {
      "cell_type": "markdown",
      "source": [
        "Do some preprocessing."
      ],
      "metadata": {
        "id": "9_uA7qsKsIBw"
      }
    },
    {
      "cell_type": "code",
      "source": [
        "# This is the preprocessing"
      ],
      "metadata": {
        "id": "rQELHAKZsCP0"
      },
      "execution_count": 4,
      "outputs": []
    },
    {
      "cell_type": "markdown",
      "source": [
        "Train the model"
      ],
      "metadata": {
        "id": "bF0hxi6fsYTt"
      }
    },
    {
      "cell_type": "code",
      "source": [
        "# train the model"
      ],
      "metadata": {
        "id": "-9sr_9J6sYud"
      },
      "execution_count": 6,
      "outputs": []
    },
    {
      "cell_type": "markdown",
      "source": [
        "Then load the model."
      ],
      "metadata": {
        "id": "efbYnXNvsMQR"
      }
    },
    {
      "cell_type": "code",
      "source": [
        "# load the model"
      ],
      "metadata": {
        "id": "QtpR4JnTsNUH"
      },
      "execution_count": 5,
      "outputs": []
    },
    {
      "cell_type": "markdown",
      "source": [
        "Evaluate the model."
      ],
      "metadata": {
        "id": "6YwYn2ncscb_"
      }
    },
    {
      "cell_type": "code",
      "source": [
        "# Evaluate the model."
      ],
      "metadata": {
        "id": "jW_1TUF-sW0E"
      },
      "execution_count": 7,
      "outputs": []
    },
    {
      "cell_type": "code",
      "source": [
        ""
      ],
      "metadata": {
        "id": "xo95rpSCsflB"
      },
      "execution_count": null,
      "outputs": []
    }
  ]
}